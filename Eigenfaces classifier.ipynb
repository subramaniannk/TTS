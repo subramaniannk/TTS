{
  "nbformat": 4,
  "nbformat_minor": 0,
  "metadata": {
    "colab": {
      "name": "Untitled63.ipynb",
      "provenance": [],
      "authorship_tag": "ABX9TyP3odZlgCjqxt4h09HOd2qh",
      "include_colab_link": true
    },
    "kernelspec": {
      "name": "python3",
      "display_name": "Python 3"
    }
  },
  "cells": [
    {
      "cell_type": "markdown",
      "metadata": {
        "id": "view-in-github",
        "colab_type": "text"
      },
      "source": [
        "<a href=\"https://colab.research.google.com/github/subramaniannk/TTS/blob/master/Eigenfaces%20classifier.ipynb\" target=\"_parent\"><img src=\"https://colab.research.google.com/assets/colab-badge.svg\" alt=\"Open In Colab\"/></a>"
      ]
    },
    {
      "cell_type": "code",
      "metadata": {
        "id": "X2IUEeYphbmd"
      },
      "source": [
        "from sklearn.datasets import fetch_lfw_people\n",
        "\n",
        "lfw_people = fetch_lfw_people(min_faces_per_person=60,resize=0.4)\n",
        "\n",
        "X = lfw_people.data\n",
        "\n",
        "y = lfw_people.target\n",
        "\n",
        "target_names = [lfw_people.target_names[a] for a in y]\n",
        "\n",
        "n_samples, h, w = lfw_people.images.shape"
      ],
      "execution_count": 139,
      "outputs": []
    },
    {
      "cell_type": "code",
      "metadata": {
        "id": "qv920S5ShcJZ"
      },
      "source": [
        "Bush_images=lfw_people.images[1].flatten()\n",
        "Bush_labels=[-1]\n",
        "Blair=target_names[8]\n",
        "Bush=target_names[1]"
      ],
      "execution_count": 140,
      "outputs": []
    },
    {
      "cell_type": "code",
      "metadata": {
        "id": "dz_MPOEVheLD"
      },
      "source": [
        "Blair_images=lfw_people.images[8].flatten()\n",
        "Blair_labels=[1]"
      ],
      "execution_count": 141,
      "outputs": []
    },
    {
      "cell_type": "code",
      "metadata": {
        "id": "-V0HGf6nhrm5"
      },
      "source": [
        "import numpy as np"
      ],
      "execution_count": 142,
      "outputs": []
    },
    {
      "cell_type": "code",
      "metadata": {
        "id": "A6ixYHAXhxZd"
      },
      "source": [
        "for iter in range(2,len(y)):\n",
        "  if(target_names[iter]==Bush):\n",
        "    temp=np.array(lfw_people.images[iter].flatten())\n",
        "    Bush_images=np.vstack((Bush_images,[temp]))\n",
        "    Bush_labels.append(-1)"
      ],
      "execution_count": 143,
      "outputs": []
    },
    {
      "cell_type": "code",
      "metadata": {
        "id": "L0Fmmq-zhzKh"
      },
      "source": [
        "for iter in range(9,len(y)):\n",
        "  if(target_names[iter]==Blair):\n",
        "    temp=np.array(lfw_people.images[iter].flatten())\n",
        "    Blair_images=np.vstack((Blair_images,[temp]))\n",
        "    Blair_labels.append(1)"
      ],
      "execution_count": 144,
      "outputs": []
    },
    {
      "cell_type": "code",
      "metadata": {
        "id": "8AoXDN2Yh1qh"
      },
      "source": [
        "train_Blair=Blair_images[0:110]\n",
        "trainBlairLabels=Blair_labels[:110]"
      ],
      "execution_count": 145,
      "outputs": []
    },
    {
      "cell_type": "code",
      "metadata": {
        "id": "oVP6LHGSh4l3"
      },
      "source": [
        "test_Blair=Blair_images[110:140]\n",
        "testBlairLabels=Blair_labels[110:140]"
      ],
      "execution_count": 146,
      "outputs": []
    },
    {
      "cell_type": "code",
      "metadata": {
        "id": "1wXhU_Mzh6m_"
      },
      "source": [
        "train_Bush=Bush_images[0:110]\n",
        "trainBushLabels=Bush_labels[:110]"
      ],
      "execution_count": 147,
      "outputs": []
    },
    {
      "cell_type": "code",
      "metadata": {
        "id": "5eS_nL8uh8Ws"
      },
      "source": [
        "test_Bush=Bush_images[110:140]\n",
        "testBushLabels=Bush_labels[110:140]"
      ],
      "execution_count": 148,
      "outputs": []
    },
    {
      "cell_type": "code",
      "metadata": {
        "id": "blAOfHGyh-gD"
      },
      "source": [
        "train=np.vstack([train_Blair,train_Bush])\n",
        "train_labels=np.array(trainBlairLabels+trainBushLabels)"
      ],
      "execution_count": 149,
      "outputs": []
    },
    {
      "cell_type": "code",
      "metadata": {
        "id": "wwHlIRvWiADW"
      },
      "source": [
        "test=np.vstack([test_Blair,test_Bush])\n",
        "test_labels=np.array(testBlairLabels+testBushLabels)"
      ],
      "execution_count": 150,
      "outputs": []
    },
    {
      "cell_type": "code",
      "metadata": {
        "id": "qUX5-LC5iBxQ"
      },
      "source": [
        "U, S, VT = np.linalg.svd(train,full_matrices=False)\n",
        "S = np.diag(S)"
      ],
      "execution_count": 151,
      "outputs": []
    },
    {
      "cell_type": "code",
      "metadata": {
        "id": "5k-vhsLXiJvv",
        "outputId": "0d8cfb07-da4e-4b64-9a3d-de9268d4e2ea",
        "colab": {
          "base_uri": "https://localhost:8080/",
          "height": 284
        }
      },
      "source": [
        "from matplotlib import pyplot as plt\n",
        "plt.imshow(VT[1,:].reshape(50,37))\n"
      ],
      "execution_count": 152,
      "outputs": [
        {
          "output_type": "execute_result",
          "data": {
            "text/plain": [
              "<matplotlib.image.AxesImage at 0x7f604761f4a8>"
            ]
          },
          "metadata": {
            "tags": []
          },
          "execution_count": 152
        },
        {
          "output_type": "display_data",
          "data": {
            "image/png": "[encoded data removed]",
            "text/plain": [
              "<Figure size 432x288 with 1 Axes>"
            ]
          },
          "metadata": {
            "tags": [],
            "needs_background": "light"
          }
        }
      ]
    },
    {
      "cell_type": "code",
      "metadata": {
        "id": "6k8WEvfpiM0R",
        "outputId": "3da311d3-bc1e-4b3a-cc98-38df722a0be0",
        "colab": {
          "base_uri": "https://localhost:8080/",
          "height": 35
        }
      },
      "source": [
        "feature_space=VT[:20,:]\n",
        "features_train=(feature_space@(train.T)).T\n",
        "features_train.shape"
      ],
      "execution_count": 175,
      "outputs": [
        {
          "output_type": "execute_result",
          "data": {
            "text/plain": [
              "(220, 20)"
            ]
          },
          "metadata": {
            "tags": []
          },
          "execution_count": 175
        }
      ]
    },
    {
      "cell_type": "code",
      "metadata": {
        "id": "1uA8tHDBq528"
      },
      "source": [
        ""
      ],
      "execution_count": null,
      "outputs": []
    },
    {
      "cell_type": "code",
      "metadata": {
        "id": "2IyO7yIbif91"
      },
      "source": [
        ""
      ],
      "execution_count": 79,
      "outputs": []
    },
    {
      "cell_type": "code",
      "metadata": {
        "id": "7N13_b9oij30"
      },
      "source": [
        "lin_coeff=np.linalg.pinv(features_train)@train_labels"
      ],
      "execution_count": 176,
      "outputs": []
    },
    {
      "cell_type": "code",
      "metadata": {
        "id": "xNpHNGG0lqiK"
      },
      "source": [
        "train_predict=np.sign(features_train@lin_coeff)"
      ],
      "execution_count": 177,
      "outputs": []
    },
    {
      "cell_type": "code",
      "metadata": {
        "id": "81f8gPiKl7bj"
      },
      "source": [
        "diff1=np.dot(train_predict,train_labels)"
      ],
      "execution_count": 178,
      "outputs": []
    },
    {
      "cell_type": "code",
      "metadata": {
        "id": "y0v9nuVhoRK7",
        "outputId": "df8b8c76-1dd8-433f-8134-d89dd09892d9",
        "colab": {
          "base_uri": "https://localhost:8080/",
          "height": 35
        }
      },
      "source": [
        "print(diff1)"
      ],
      "execution_count": 179,
      "outputs": [
        {
          "output_type": "stream",
          "text": [
            "174.0\n"
          ],
          "name": "stdout"
        }
      ]
    },
    {
      "cell_type": "code",
      "metadata": {
        "id": "hFIsG8IVoSuc",
        "outputId": "e9ca12b4-3b62-4fc8-aa30-4af09ef5f697",
        "colab": {
          "base_uri": "https://localhost:8080/",
          "height": 35
        }
      },
      "source": [
        "print(\"----------------\")"
      ],
      "execution_count": 107,
      "outputs": [
        {
          "output_type": "stream",
          "text": [
            "----------------\n"
          ],
          "name": "stdout"
        }
      ]
    },
    {
      "cell_type": "code",
      "metadata": {
        "id": "BnyjoZOsp_nE"
      },
      "source": [
        "features_test=(feature_space@(test.T)).T"
      ],
      "execution_count": 180,
      "outputs": []
    },
    {
      "cell_type": "code",
      "metadata": {
        "id": "Gf2KRXIGqDWA"
      },
      "source": [
        "test_predict=np.sign(features_test@lin_coeff)"
      ],
      "execution_count": 181,
      "outputs": []
    },
    {
      "cell_type": "code",
      "metadata": {
        "id": "4_OoNyu3qJsQ"
      },
      "source": [
        "diff2=np.dot(test_predict,test_labels)"
      ],
      "execution_count": 182,
      "outputs": []
    },
    {
      "cell_type": "code",
      "metadata": {
        "id": "kNfZv6r5qTX3",
        "outputId": "5f477495-bb48-4077-8038-4dd82d929356",
        "colab": {
          "base_uri": "https://localhost:8080/",
          "height": 35
        }
      },
      "source": [
        "print(diff2)"
      ],
      "execution_count": 183,
      "outputs": [
        {
          "output_type": "stream",
          "text": [
            "42.0\n"
          ],
          "name": "stdout"
        }
      ]
    },
    {
      "cell_type": "code",
      "metadata": {
        "id": "gS5s5xExrXCO",
        "outputId": "8d3a1a65-d547-400b-8d49-4e834bd4f905",
        "colab": {
          "base_uri": "https://localhost:8080/",
          "height": 88
        }
      },
      "source": [
        "print(test_predict)"
      ],
      "execution_count": 184,
      "outputs": [
        {
          "output_type": "stream",
          "text": [
            "[-1.  1.  1.  1.  1.  1.  1.  1.  1.  1.  1.  1.  1.  1.  1.  1.  1.  1.\n",
            "  1.  1.  1.  1.  1.  1.  1. -1.  1.  1.  1. -1. -1.  1. -1. -1.  1. -1.\n",
            "  1.  1. -1. -1. -1. -1. -1. -1. -1. -1. -1. -1. -1. -1. -1. -1. -1. -1.\n",
            " -1. -1.  1. -1. -1.  1.]\n"
          ],
          "name": "stdout"
        }
      ]
    },
    {
      "cell_type": "code",
      "metadata": {
        "id": "S1D_HLLdsEsC"
      },
      "source": [
        ""
      ],
      "execution_count": null,
      "outputs": []
    }
  ]
}